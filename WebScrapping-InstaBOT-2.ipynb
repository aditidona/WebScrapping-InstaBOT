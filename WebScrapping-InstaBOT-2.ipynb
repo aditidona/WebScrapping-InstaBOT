{
 "cells": [
  {
   "cell_type": "markdown",
   "metadata": {},
   "source": [
    "## PROJECT INSTABOT-II\n",
    "#### BY: ADITI DONA"
   ]
  },
  {
   "cell_type": "code",
   "execution_count": 149,
   "metadata": {},
   "outputs": [],
   "source": [
    "from selenium import webdriver\n",
    "from selenium.webdriver.common.keys import Keys\n",
    "from selenium.webdriver.support.ui import WebDriverWait\n",
    "from selenium.webdriver.support import expected_conditions as EC\n",
    "from selenium.webdriver.common.by import By\n",
    "from selenium.common.exceptions import NoSuchElementException\n",
    "from bs4 import BeautifulSoup as bs\n",
    "import time\n",
    "import matplotlib.pyplot as plt\n",
    "\n",
    "wait=WebDriverWait(driver,10) # explicit wait"
   ]
  },
  {
   "cell_type": "markdown",
   "metadata": {},
   "source": [
    "## Login to Instagram"
   ]
  },
  {
   "cell_type": "code",
   "execution_count": 145,
   "metadata": {},
   "outputs": [],
   "source": [
    "from selenium import webdriver\n",
    "driver=webdriver.Chrome(executable_path='/Users/Aditi Dona/Downloads/chromedriver')\n",
    "driver.get('https://www.instagram.com/')"
   ]
  },
  {
   "cell_type": "code",
   "execution_count": 147,
   "metadata": {},
   "outputs": [],
   "source": [
    "user=driver.find_element_by_name('username') \n",
    "pas=driver.find_element_by_name('password')\n",
    "user.send_keys('SAMPLE USERNAME')\n",
    "pas.send_keys('SAMPLE PASSWORD')\n",
    "pas.submit()"
   ]
  },
  {
   "cell_type": "markdown",
   "metadata": {},
   "source": [
    "##### SEARCH_HANLDES: Function to search text on the search bar and open the drop down. (VERY USEFUL IN PARTS OF THE PROJECT)"
   ]
  },
  {
   "cell_type": "code",
   "execution_count": 137,
   "metadata": {},
   "outputs": [],
   "source": [
    "def search_handles(text):\n",
    "    search=driver.find_element_by_class_name('wUAXj')\n",
    "    search.click()\n",
    "    t=driver.find_element_by_class_name('x3qfX')\n",
    "    t.send_keys(text)\n",
    "    t.send_keys(Keys.ENTER)\n",
    "    wait.until(EC.presence_of_element_located((By.CLASS_NAME,'fuqBx')))\n",
    "top_5_handles=[]"
   ]
  },
  {
   "cell_type": "markdown",
   "metadata": {},
   "source": [
    "### 1.Now your friend has followed a lot of different food bloggers, he needs to analyse the habits of these bloggers.\n",
    "##### 1.1) From the list of instagram handles you obtained when you searched ‘food’ in previous project. Open the first 10 handles and find the top 5 which have the highest number of followers"
   ]
  },
  {
   "cell_type": "code",
   "execution_count": 148,
   "metadata": {},
   "outputs": [],
   "source": [
    "def top_5_handles_related_to(category):\n",
    "    search_handles(category) #function call to search_handles\n",
    "    # MAKING A LIST OF ALL INSTAGRAM HANDLES WHICH ARE SHOWN IN THE DROPDOWN RELATED TO FOOD\n",
    "    names=driver.find_elements_by_class_name('Ap253') \n",
    "    handles=[]\n",
    "    for i in range(len(names)):\n",
    "        if(names[i].text.startswith('#')):\n",
    "            continue\n",
    "        handles.append(names[i].text) # LIST OF ALL HANDLES WITHOUT HASHTAGS\n",
    "    \n",
    "    c=0\n",
    "    d={} #DICTIONARY WITH KEYS->handles,VALUE->no_of_followers\n",
    "    for i in handles:\n",
    "        if c>10:\n",
    "            break\n",
    "        profile=driver.find_element_by_partial_link_text(i) #SEARCH FOR THE TEXT IN THE DROPDOWN\n",
    "        profile.click() \n",
    "        wait.until(EC.presence_of_element_located((By.PARTIAL_LINK_TEXT,'followers'))) #WAIT UNTIL PAGE LOADS\n",
    "        data=bs(driver.page_source,'html.parser') \n",
    "        #LOCATING THE NUMBER OF FOLLOWERS FROM THE PAGE\n",
    "        section=data.body.find_all(class_='g47SY')\n",
    "        temp=section[1]['title']\n",
    "        temp=temp.replace(',','')\n",
    "        if i not in d:\n",
    "            d[i]=int(temp)\n",
    "        driver.back()\n",
    "        wait.until(EC.presence_of_element_located((By.CLASS_NAME,'wUAXj')))\n",
    "        search_handles(category)\n",
    "        c+=1\n",
    "        \n",
    "    #SORTING THE DICTIONARY   \n",
    "    d=dict(sorted(d.items(), key = lambda kv:(kv[1], kv[0]),reverse=True)) \n",
    "    \n",
    "    #FINDING THE TOP_5_HANDLES\n",
    "    c=0\n",
    "    top_5_handles=[]\n",
    "    no_of_followers_of_top_5=[]\n",
    "    for i in d:\n",
    "        if c>=5:\n",
    "            break\n",
    "        top_5_handles.append(i)\n",
    "        no_of_followers_of_top_5.append(d[i])\n",
    "        c+=1\n",
    "    \n",
    "    #RETURNING TOP_5_HANDLES AND THEIR NUMBER_OF_FOLLOWERS\n",
    "    return top_5_handles,no_of_followers_of_top_5"
   ]
  },
  {
   "cell_type": "code",
   "execution_count": 150,
   "metadata": {},
   "outputs": [
    {
     "name": "stdout",
     "output_type": "stream",
     "text": [
      "TOP 5 HANDLES WITH HIGHEST FOLLOWERS ARE:\n",
      "foodnetwork -->> 10288639\n",
      "buzzfeedfood -->> 3742355\n",
      "foodgod -->> 3612408\n",
      "dilsefoodie -->> 457274\n",
      "foodtalkindia -->> 295752\n"
     ]
    }
   ],
   "source": [
    "top_5_handles,no_of_followers_of_top_5=top_5_handles_related_to('food') \n",
    "print('TOP 5 HANDLES WITH HIGHEST FOLLOWERS ARE:')\n",
    "for i in range(5):\n",
    "    print(top_5_handles[i],\"-->>\",no_of_followers_of_top_5[i])"
   ]
  },
  {
   "cell_type": "markdown",
   "metadata": {},
   "source": [
    "##### 1.2) Find the number of posts these handles have done in the previous 3 days.\n",
    "##### 1.3) Depict this information using a suitable graph."
   ]
  },
  {
   "cell_type": "code",
   "execution_count": 272,
   "metadata": {},
   "outputs": [],
   "source": [
    "def no_of_posts_in_last_3_days(top_5):\n",
    "    d={} #DICTIONARY WITH KEYS->handle_name,VALUES->no_of_posts\n",
    "    for j in top_5:\n",
    "        search_handles(j) #FUNCTION CALL\n",
    "        profile=driver.find_element_by_partial_link_text(j)\n",
    "        profile.click()\n",
    "        wait.until(EC.presence_of_element_located((By.CLASS_NAME,'_9AhH0'))) #WAIT UNTIL PAGE LOADS\n",
    "\n",
    "        #LOCATE THE POSTS OF THE HANDLE AND ITERATE OVER THEM\n",
    "        posts=driver.find_elements_by_class_name('_9AhH0') \n",
    "        count=0\n",
    "        for i in posts:\n",
    "            i.click()\n",
    "            wait.until(EC.presence_of_element_located((By.CLASS_NAME,'_97aPb'))) #WAIT FOR POST DIALOG TO OPEN\n",
    "            data=bs(driver.page_source,'html.parser')\n",
    "            #GET THE DETAILS OF WHEN THE POST WAS UPLOADED\n",
    "            time=data.find('time',class_='_1o9PC').text \n",
    "            if ('hours' in time) | ('minutes' in time) | ('day' in time):    #LIKE 'HOURS AGO' OR 'MINUTES AGO' OR '1 DAY AGO'\n",
    "                count+=1\n",
    "            elif 'days' in time:    #LIKE '4 DAYS AG0'\n",
    "                if(time[0]<=3):\n",
    "                    count+=1\n",
    "            else:    #LIKE MAY 3,2020 THEN IGNORE\n",
    "                cross=driver.find_element_by_css_selector(\"[aria-label=Close]\")#locate the cross button and close \n",
    "                cross.click()\n",
    "                wait.until(EC.presence_of_element_located((By.PARTIAL_LINK_TEXT,'followers'))) #wait until closed\n",
    "                break\n",
    "            cross=driver.find_element_by_css_selector(\"[aria-label=Close]\") #locate the cross button to close the post dialog\n",
    "            cross.click()\n",
    "            wait.until(EC.presence_of_element_located((By.PARTIAL_LINK_TEXT,'followers'))) \n",
    "            \n",
    "        #UPDATE THE DICTIONARY\n",
    "        if j not in d:\n",
    "            d[j]=count\n",
    "        else:\n",
    "            d[j]=d[j]+count\n",
    "        \n",
    "    print('NO. OF POSTS BY TOP 5 HANDLES IN LAST 3 DAYS')\n",
    "    number=[]\n",
    "    for i in d:\n",
    "        number.append(d[i]) #APPEND THE NUMBER OF POSTS IN 'number'\n",
    "        print(i,':',d[i])\n",
    "    \n",
    "    #BAR GRAPH TO REPRESENT DATA\n",
    "    plt.bar(top_5,number,color=['red','yellow','green','blue','pink'],edgecolor='black') #HERE top_5 HAS TOP_5 HANDLES\n",
    "    plt.xticks(rotation=90)\n",
    "    plt.xlabel('top 5')\n",
    "    plt.ylabel('No. of Posts')\n",
    "    plt.title('NO. OF POSTS IN LAST 3 DAYS BY TOP 5 FOOD HANDLES')\n",
    "    plt.show()                "
   ]
  },
  {
   "cell_type": "code",
   "execution_count": 274,
   "metadata": {},
   "outputs": [
    {
     "name": "stdout",
     "output_type": "stream",
     "text": [
      "NO. OF POSTS BY TOP 5 HANDLES IN LAST 3 DAYS\n",
      "foodnetwork : 33\n",
      "buzzfeedfood : 0\n",
      "foodgod : 2\n",
      "dilsefoodie : 6\n",
      "foodtalkindia : 13\n"
     ]
    },
    {
     "data": {
      "image/png": "[encoded data removed]",
      "text/plain": [
       "<Figure size 432x288 with 1 Axes>"
      ]
     },
     "metadata": {
      "needs_background": "light"
     },
     "output_type": "display_data"
    }
   ],
   "source": [
    "no_of_posts_in_last_3_days(top_5_handles) #PASSING THE TOP_5_HANDLES LIST OBTAINED FROM PREVIOUS DATA"
   ]
  },
  {
   "cell_type": "markdown",
   "metadata": {},
   "source": [
    "### 2.Your friend also needs a list of hashtags that he should use in his posts.\n",
    "##### 2.1) Open the 5 handles you obtained in the last question, and scrape the content of the first 10 posts of each handle."
   ]
  },
  {
   "cell_type": "code",
   "execution_count": 160,
   "metadata": {},
   "outputs": [],
   "source": [
    "def content_of_first_10_posts(top_5):\n",
    "    d={} #DICTIONARY WITH KEYS->handle_name,VALUE->post_number\n",
    "    for i in top_5:\n",
    "        search_handles(i) #FUNCTION CALL\n",
    "        profile=driver.find_element_by_partial_link_text(i)\n",
    "        profile.click()\n",
    "        wait.until(EC.presence_of_element_located((By.CLASS_NAME,'_9AhH0'))) #LOCATE first 10 POSTS\n",
    "        posts=driver.find_elements_by_class_name('_9AhH0')\n",
    "        d1={} #DICTIONARY WITH KEYS->post_number,VALUE->post_content\n",
    "        for j in range(10):\n",
    "            posts[j].click() \n",
    "            wait.until(EC.presence_of_element_located((By.CLASS_NAME,'_97aPb')))        \n",
    "            data=bs(driver.page_source,'html.parser')\n",
    "            data=data.find_all('span',class_='') #LOCATE THE POST CONTENT ON THE WEBPAGE\n",
    "            content=data[2].text\n",
    "            d1[j+1]=content \n",
    "            cross=driver.find_element_by_css_selector(\"[aria-label=Close]\") #locate the cross button and close it\n",
    "            cross.click()\n",
    "            wait.until(EC.presence_of_element_located((By.PARTIAL_LINK_TEXT,'followers'))) #WAIT UNTIL WEBPAGE LOADS\n",
    "        \n",
    "        #UPDATE THE FINAL DICTIONARY\n",
    "        d[i]=d1\n",
    "    \n",
    "    return d   #RETURN THE FINAL DICTIONARY"
   ]
  },
  {
   "cell_type": "code",
   "execution_count": 163,
   "metadata": {},
   "outputs": [
    {
     "name": "stdout",
     "output_type": "stream",
     "text": [
      "foodnetwork {1: \"@DuffGoldman's Meaty Groom Cake 🍖🎂Duff's groom cake puts a whole new spin on savory desserts!Don't miss an all-new season of #DuffTakesTheCake > Monday at 10|9c\", 2: 'The final four celebrity recruits enter boot camp to find a sweet surprise! Then, things get competitive for the main dish challenge as @chefanneburrell and @tylerflorence challenge the recruits to cook head-to-head to earn their spot in the finale. An all-new #WorstCooks is up NEXT at 9|8c.', 3: 'Catch @AltonBrown and @elizabethingramstudio as they cook LIVE on the @foodnetworkkitchen app tomorrow. What will they make? Find out at 6|5c! #altonandelizabethcooksomefood', 4: 'Best hack ever: We turned a bag of Hawaiian sweet rolls into CINNAMON BUNS!Get the recipe on your @FoodNetworkKitchen app.', 5: \"Ramp up your grilled chicken using your favorite spice mix and a sweet-and-spicy glaze! You can take @chefsymon's Sweet and Spicy Honey-Glazed Grilled Chicken with Spinach Salad and Pantry Dressing class TODAY on the @FoodNetworkKitchen app.\", 6: \"Watercolor Cake (with @cakebossralph)🌈This gorgeous watercolor cake is even MORE colorful on the inside! (Just wait until you see a slice!) Don't miss Ralph as a judge on #BigTimeBake > Monday at 9|8c\", 7: \"Fudgy brownies = the BEST brownies! THIS is how to make sure they're perfectly chewy.Watch @dessertfortwo's Small Batch Brownies class on the @foodnetworkkitchen app for more tips.\", 8: 'Recipe of the Day: Banana Buttermilk Waffles 🍌 Save the recipe on your @foodnetworkkitchen app today!', 9: \"Brown Sugar Custard (with @tylerflorence)😋Tyler brings rich and fruity flavors to his Brown Sugar Custard!🍓 Get a sneak peek at Tyler's Boot Camp demo before an all-new #WorstCooks Celebrity Edition > tonight 9|8cSave the recipe in your @FoodNetworkKitchen app!\", 10: \"Michael Symon's Essential Knives for Easy PrepTake it from the pro @ChefSymon: These are *THE* essential knives you need to make your meal prep quick and efficient! 🔪🔪. . .#SymonDinners SERIES PREMIERE > Today @ 12:30|11:30c\"}\n",
      "buzzfeedfood {1: 'This place in Seattle serves tide-to-table shellfish! 😱Follow 👉@bringme for more foodie spots around the world!', 2: 'Are you ready to get bougie on a budget? You can get a Michelin star meal in Paris! 🇫🇷Follow 👉@bringme for more foodie adventures!', 3: \"Why aren't you following @bringme yet?! 🍜Follow @bringme for more foodie adventures! 🌍✈️\", 4: 'Brazil makes the cheesiest chili cheeseburgers! 😋🍔Follow @bringme for more!', 5: \"Move over Italy, Vancouver might have the world's best gelato! 🍨What's your favorite gelato flavor? Follow 👉@bringme for more mouthwatering adventures around the globe! 🌎\", 6: 'Sushi + sustainability = my dream come true! 🍣Follow @bringme for more foodie adventures around the world! ✈️.....#bringme #portlandtravel #sushirestuarant #sushi #oregontravel #sustainability', 7: \"These are cheesecake tea cups and I'll take one of EVERYTHING. 😍🍰Follow @bringme for more foodie adventures! ✈️\", 8: 'This place serves pickle and beer flights with a southern twist! 🍻Follow @bringme for more foodie adventures all around the globe! ✈️', 9: 'Cozy up at this hot chocolate café! They have over 50 different kinds! ☕️🍫Follow @bringme for more foodie adventures around the world! ✈️', 10: 'Thanks for this dairy-free blueberry lime “cheesecake” recipe @goodful 😍🤤'}\n",
      "foodgod {1: 'On a scale from 1-10 how satisfying is this?! 😍\\u2063\\u2063🍜\\u2063\\u2063\\u2063📹 1912284641 (Kwai)\\u2063\\u2063', 2: 'Strength is in unity ✊🏿✊🏾✊🏽✊🏼✊🏻', 3: 'Missing the Cannes Film Festival!! What events are you missing out on??', 4: 'Should this be a dark, milk, or white chocolate pool??\\u2063\\u2063📹@mrhalawa', 5: 'I built my own gym w/ @vodkabeluga .. who wants one? adwatch till ending... a surprise🚲🌙', 6: 'Comment 🍓 for the UK 🇬🇧 to get better quickly!! Can’t wait to visit soon!', 7: 'HOTTEST trend while quarantined... Dalgona coffee!!! \\u2063\\u2063\\u2063\\u2063Recipe: \\u20632 tbsp of instant coffee\\u2063\\u20632 tbsp of sugar\\u2063\\u20632 tbsp of hot water\\u2063\\u2063Whisk if all together until you can creat stiff peaks. Serve over ice and milk of your choosing \\u2063\\u2063\\u2063📹 @four_cups @edimdoma.ru \\u2063\\u2063🎵 Sweater Weather by @thenbhd', 8: 'Just last week 😢 @mylesprime112 @fatjoe @therealnoreaga', 9: 'We all will be eating cake like this soon!! We will also get through this together \\u2063\\u2063📹 @fegourmet', 10: 'UPDATE: STAY HOME!!!!! PLEASE SUPPORT your local businesses and restaurants, they need your support NOW!!!'}\n",
      "dilsefoodie {1: 'Punjabi Khaana At Azad MarketYaha Pe Agar Mutton Chaap Khani Hai To Booking Karni Padti Hai Pehle Se He #dilsefoodie #punjabikhaana #food', 2: 'Bombay Masala Pav At Arjun Pav BhajiThis item is my favourite here. Do try this whenever you visit here.#dilsefoodie #arjunpavbhaji', 3: 'Laal Maas RecipeTag Someone Who Would Love To Try This Recipe.#dilsefoodie #LaalMaas', 4: 'Dahi Bharva Gol Gappa Chaat At Chander Chaat Palace Model Town 3One Of The Best In Delhi To Have Chaat#dilsefoodie #food #golgappe', 5: 'The Very Famous Omelette Wala In Jaipur - Sanjay OmeletteWe tried Here Ande Ka Halwa And Omelette Pizza #dilsefoodie #food #jaipur', 6: \"My Dad's Favourite RecipeJeera Aloo Super Chatpata Spicy And Very Easy To Cook 😬. #dilsefoodie #JeeraAloo\", 7: 'Goan Style Chicken CurryYe Wali Recipe Try Karo If You Like Coconut Flavour And Spicy Food#dilsefoodie', 8: 'Chicken Korma RecipeAb Banao Ghar Pe Chicken Korma #dilsefoodie #chickenkorma', 9: 'Are You Also Missing Street Food ?Tag Your Foodie Friends And Tell Me After  Which Street Food You Are Missing🙄. #dilsefoodie #food #guitar', 10: 'French Toast RecipeSimple And Best Breakfast#dilsefoodie #food #frenchtoast'}\n",
      "foodtalkindia {1: 'Now open for delivery and pick-up! As the lockdown eases up a little, some of our favourite gourmet restaurants have started delivery, bringing happiness right back to your doorstep!To help you feed those cravings, we’ve put together our selection of this week with these 5 addresses. So swipe left to order and gorge on your favourite food at home! ..🍔 AKU’s - Delhi, Gurgaon & Noida .🍝 PLATS - Delhi . .🥧 The Harvest Room - Delhi .🥟 Mood - Delhi .🍲 Rustom’s - Delhi . ..• @akus_thebrrgrrco • @platsdelhi • @theharvestroom_delhi • @moodindelhi • @rustomsbhonu', 2: '#TalkDrinksLove whiskhy sour? 🥃Did you know these facts about the popular whisky cocktail?.-You can add red wine in it to enhance the flavour.-It doesn’t need to have egg in it but it definitely does taste better with it-It’s over a century old! The earliest printed recipe for the drink appeared in Jerry Thomas’ 1862 How', 3: \"Imperfecto has come out with an amazing deal you don’t want to miss out on! They are offering vouchers worth 5K in 2K only!!.You can use this voucher at any of the Imperfecto Restaurants across Delhi NCR & it's valid till June 2021. . Head over to @imperfectoshor ’s handle and get your voucher’s now!Contact: 9999123937\", 4: \"We are super thrilled to announce that @tresdelhi has started home deliveries and takeouts!In the midst of everyday challenges of lockdown,\\xa0Tres\\xa0is satiating all our hunger cravings by delivering delicious food prepared in hygienic conditions and delivered in insulated boxes conducive to maintain heat and keep food fresh in transit.Tres Dining At Home menu is a selection of Tres' best with refreshing light summer delicacies, keeping nutrition and health values in mind. The curated menu boasts of farm-fresh produce, rich flavourful homemade sauces, immunity boosting ingredients and a lot more to keep the gut and immunity in check.Place your order today!Call us @+91 8448699586/ +91 8448699587/011-24690222Or order through @zomatoin and @swiggyindia .\", 5: 'Asian food lovers rejoice and enjoy delicious Pan-Asian delights at home with @official_youmee !.Savour the heavenly dishes that are cooked, packed and delivered hygienically with utmost care for your safety.YouMee is now home delivering in Delhi and Bengaluru, order online from zomato, swiggy or youmee.delivery.', 6: 'Scrumptious sushi, delicious dim sums, noodles & much more, ( @noshidelivery )Noshi - Yum Asian Delivery is now in GURGAON! ..Feast on comfort food prepared, packaged & delivered ensuring the highest hygiene standards delivered to your doorstep....Delivering\\xa0 all over Delhi and Gurgaon, treat yourself to some Noshi happiness, order now via on Zomato or 9810023349, 9810023359.', 7: '#HappyCheeseDay 🧀Know your cheese beyond your pizza. Overwhelmed by the different kind of cheese showing up in recipes while you cook?Presenting a beginners crash course in the different type of cheeses available in the market and how to best use them. Here are some more names to refer to:Soft: Ricotta, Feta, Burrata, Masacarpone & BrieSemi Soft: Mozzarella, Havarti, Munster, Jarlsberg, ChaumesSemi firm: Gouda, Provolone, Monterey Jack and EdamFirm: Cheddar & EmmentalHard: Manchego, Parmesan, Pecorino and Smoked GoudaBlue: Gorgonzola, Roquefort, Stilton, Gorgonzola and Danish blue', 8: 'Unravel the authentic flavour of North Indian cuisine by @punjabgrillofficial and enjoy the\\xa0 melange of richness, aroma, and delightful taste in the comfort of your home. \\xa0Made with exceptional hygiene standards. .\\xa0Now open for deliveries and takeaways in Delhi NCR, Bengaluru and Mumbai.Order now via Swiggy and Zomato.', 9: 'Gluten-Free & Vegan Mango Cake with no added sugar..In the kitchen with @meghajay ( @hearthandi ) ..* 1 ½ cups diced mango, fresh or frozen* ¼ cup\\xa0coconut oil, melted and cooled* 3/4 cup Almond\\xa0nut milk* 1 teaspoon\\xa0vanilla extract* 1 1/2 cups\\xa0coconut flour* 1 Tablespoon corn starch* 1/2 cup\\xa0jaggery powder* ¾ teaspoon\\xa0baking soda* ¼ teaspoon\\xa0salt1. Preheat the oven to 175 degrees C and line an inch loaf pan with gluten-free flour or parchment paper.2. In a large bowl, mix the coconut flour, corn starch, jaggery powder, baking soda,\\xa0diced mango, coconut oil, nut milk, vanilla extract and\\xa0salt. Whisk in the ingredients well till they come together.3. Bake for 20-30 minutes. Enjoy warm or refrigerate in an airtight container. Stays well for 3 days in the fridge.', 10: 'Future of dining-out?🤔. ...📸: @chaihona1'}\n"
     ]
    }
   ],
   "source": [
    "d={}\n",
    "d=content_of_first_10_posts(top_5_handles) #PASSING THE TOP_5_HANDLES LIST OBTAINED FROM PREVIOUS DATA\n",
    "for i in d:\n",
    "    print(i,d[i])"
   ]
  },
  {
   "cell_type": "markdown",
   "metadata": {},
   "source": [
    "##### 2.2) Prepare a list of all words used in all the scraped posts and calculate the frequency of each word."
   ]
  },
  {
   "cell_type": "code",
   "execution_count": 279,
   "metadata": {},
   "outputs": [],
   "source": [
    "def frequency_of_words_in_content(d):\n",
    "    words=[]\n",
    "    d1={} #DICTIONARY WITH KEYS->hashtags,VALUE->frequency_of_hashtags\n",
    "    for i in d.values():\n",
    "        for j in i.values():\n",
    "            words=j.split()\n",
    "            for i in words:\n",
    "                if i.startswith('#'):\n",
    "                    if i not in d1:\n",
    "                        d1[i]=1\n",
    "                    else:\n",
    "                        d1[i]=d1[i]+1\n",
    "    return d1    "
   ]
  },
  {
   "cell_type": "code",
   "execution_count": 280,
   "metadata": {},
   "outputs": [
    {
     "name": "stdout",
     "output_type": "stream",
     "text": [
      "{'#DuffTakesTheCake': 1, '#WorstCooks': 2, '#altonandelizabethcooksomefood': 1, '#BigTimeBake': 1, '#portlandtravel': 1, '#sushirestuarant': 1, '#sushi': 1, '#oregontravel': 1, '#sustainability': 1, '#dilsefoodie': 5, '#punjabikhaana': 1, '#food': 5, '#arjunpavbhaji': 1, '#LaalMaas': 1, '#golgappe': 1, '#jaipur': 1, '#JeeraAloo': 1, '#chickenkorma': 1, '#guitar': 1, '#frenchtoast': 1, '#TalkDrinksLove': 1, '#HappyCheeseDay': 1}\n"
     ]
    }
   ],
   "source": [
    "freq={}\n",
    "freq=frequency_of_words_in_content(d) #PASSING THE DICTIONARY WITH THE CONTENT FROM THE PREVIOUS DATA\n",
    "print(freq)"
   ]
  },
  {
   "cell_type": "markdown",
   "metadata": {},
   "source": [
    "##### 2.3) Create a csv file with two columns : the word and its frequency"
   ]
  },
  {
   "cell_type": "code",
   "execution_count": 284,
   "metadata": {},
   "outputs": [],
   "source": [
    "import pandas as pd\n",
    "def to_dataframe(data):\n",
    "    hashtag=[] #HASHTAGS\n",
    "    f=[]  #FREQUENCY\n",
    "    new={} #DICTIONARY\n",
    "    for i in data:\n",
    "        hashtag.append(i)\n",
    "        f.append(data[i])\n",
    "    new={'Hashtags':hashtag,'Frequency':f}\n",
    "    df=pd.DataFrame(new)\n",
    "    df.to_csv('Hashtags.csv',index=False)\n",
    "    print(df)"
   ]
  },
  {
   "cell_type": "code",
   "execution_count": 285,
   "metadata": {},
   "outputs": [
    {
     "name": "stdout",
     "output_type": "stream",
     "text": [
      "                          Hashtags  Frequency\n",
      "0                #DuffTakesTheCake          1\n",
      "1                      #WorstCooks          2\n",
      "2   #altonandelizabethcooksomefood          1\n",
      "3                     #BigTimeBake          1\n",
      "4                  #portlandtravel          1\n",
      "5                 #sushirestuarant          1\n",
      "6                           #sushi          1\n",
      "7                    #oregontravel          1\n",
      "8                  #sustainability          1\n",
      "9                     #dilsefoodie          5\n",
      "10                  #punjabikhaana          1\n",
      "11                           #food          5\n",
      "12                  #arjunpavbhaji          1\n",
      "13                       #LaalMaas          1\n",
      "14                       #golgappe          1\n",
      "15                         #jaipur          1\n",
      "16                      #JeeraAloo          1\n",
      "17                   #chickenkorma          1\n",
      "18                         #guitar          1\n",
      "19                    #frenchtoast          1\n",
      "20                 #TalkDrinksLove          1\n",
      "21                 #HappyCheeseDay          1\n"
     ]
    }
   ],
   "source": [
    "to_dataframe(freq) #PASSING THE DICTIONARY WITH FREQUENCY FROM THE PREVIOUS DATA"
   ]
  },
  {
   "cell_type": "markdown",
   "metadata": {},
   "source": [
    "##### 2.4) Now, find the hashtags that were most popular among these bloggers"
   ]
  },
  {
   "cell_type": "code",
   "execution_count": 168,
   "metadata": {},
   "outputs": [],
   "source": [
    "def top_5_hashtags(data):\n",
    "    hashtags={} #DICTIONARY WITH KEYS->top_5_handles,VALUE->frequency\n",
    "    data=dict(sorted(data.items(), key = lambda kv:(kv[1], kv[0]),reverse=True)) #SORTING THE DICTIONARY\n",
    "    c=0\n",
    "    for i in data:\n",
    "        if c>=5:\n",
    "            break\n",
    "        hashtags[i]=data[i] \n",
    "        c+=1\n",
    "    return hashtags #RETURN TOP_5 HASHTAGS"
   ]
  },
  {
   "cell_type": "code",
   "execution_count": 169,
   "metadata": {},
   "outputs": [
    {
     "name": "stdout",
     "output_type": "stream",
     "text": [
      "TOP 5 HASHTAGS USED ARE:\n",
      "#food 5\n",
      "#dilsefoodie 5\n",
      "#WorstCooks 2\n",
      "#sustainability 1\n",
      "#sushirestuarant 1\n"
     ]
    }
   ],
   "source": [
    "top_5_h=top_5_hashtags(freq) \n",
    "\n",
    "print('TOP 5 HASHTAGS USED ARE:')\n",
    "for i in top_5_h:\n",
    "    print(i,top_5_h[i])"
   ]
  },
  {
   "cell_type": "markdown",
   "metadata": {},
   "source": [
    "##### 2.5) Plot a Pie Chart of the top 5 hashtags obtained and the number of times they were used by these bloggers in the scraped posts."
   ]
  },
  {
   "cell_type": "code",
   "execution_count": 170,
   "metadata": {},
   "outputs": [
    {
     "data": {
      "image/png": "[encoded data removed]",
      "text/plain": [
       "<Figure size 432x288 with 1 Axes>"
      ]
     },
     "metadata": {},
     "output_type": "display_data"
    }
   ],
   "source": [
    "plt.pie(top_5_h.values(),labels=top_5_h.keys(),autopct=\"%.2f%%\")\n",
    "plt.title('TOP 5 HASHTAGS')\n",
    "plt.show()"
   ]
  },
  {
   "cell_type": "markdown",
   "metadata": {},
   "source": [
    "### 3. You need to also calculate average followers : likes ratio for the obtained handles. Followers : Likes ratio is calculated as follows: \n",
    "##### 3.1) Find out the likes of the top 10 posts of the 5 handles obtained earlier."
   ]
  },
  {
   "cell_type": "code",
   "execution_count": 236,
   "metadata": {},
   "outputs": [],
   "source": [
    "def likes_of_top_10_posts(top_5):\n",
    "    likes_top_5={} #DICTIONARY WITH KEYS->handle_nam,VALUE->number_of_likes_on_top_10_posts\n",
    "    for j in top_5:\n",
    "        search_handles(j) #FUNCTION CALL\n",
    "        profile=driver.find_element_by_partial_link_text(j)\n",
    "        profile.click()\n",
    "        wait.until(EC.presence_of_element_located((By.CLASS_NAME,'_9AhH0'))) #WAIT UNTIL PAGE LOADS\n",
    "        posts=driver.find_elements_by_class_name('_9AhH0') #LOCATE THE POSTS OF THE HANDLE\n",
    "        l=0\n",
    "        d={} #DICTIONARY WITH KEYS->post_number,VALUE->likes_on_that_post\n",
    "        for i in range(10):\n",
    "            posts[i].click() #CLICK ON THE POST\n",
    "            wait.until(EC.presence_of_element_located((By.CLASS_NAME,'_97aPb'))) #WAIT UNTIL POST DIALOG OPENS\n",
    "            data=bs(driver.page_source,'html.parser')\n",
    "            likes=data.find(class_='Nm9Fw') #LOCATE THE SECTION WHICH DISPLAYS THE LIKES(PICTURE POST)\n",
    "            \n",
    "            #WHEN likes IS EMPTY THAT MEANS ITS DISPLAYING THE 'VIEWS'(VIDEO POST)\n",
    "            if likes==None:\n",
    "                views=driver.find_element_by_class_name('vcOH2')#LOCATE THE VIEWS AND CLICK ON IT THAT WILL SHOW THE NO_OF_LIKES\n",
    "                views.click()\n",
    "                wait.until(EC.presence_of_element_located((By.CLASS_NAME,'vJRqr'))) #WAIT UNTIL A POP-UP WITH LIKES APPEAR\n",
    "                new_data=bs(driver.page_source,'html.parser') \n",
    "                like=new_data.find(class_='vJRqr').span.text #LOCATE THE LIKES\n",
    "                like=like.replace(',','')\n",
    "                l=int(like) #LIKES ON THE VIDEO\n",
    "                close=driver.find_element_by_class_name('QhbhU') #CLOSE THE POP-UP\n",
    "                close.click()\n",
    "            \n",
    "            #WHEN LIKES IF NOT EMPTY THIS MEANS ITS DISPLAYING 'LIKES'(PICTURE POST)\n",
    "            else:\n",
    "                likes=likes.button.span.text #LOCATE THE LIKES\n",
    "                likes=likes.replace(',',\"\")\n",
    "                l=int(likes)\n",
    "            cross=driver.find_element_by_css_selector(\"[aria-label=Close]\") #locate the cross button and close the dialog\n",
    "            cross.click()\n",
    "            wait.until(EC.presence_of_element_located((By.PARTIAL_LINK_TEXT,'followers'))) #wait until closes\n",
    "            \n",
    "            #UPDATE THE DICTIONARY FOR EACH POST\n",
    "            d[i+1]=l\n",
    "            \n",
    "        #UPDATE THE FINAL DICTIONARY\n",
    "        likes_top_5[j]=d\n",
    "        \n",
    "    return likes_top_5 #RETURN THE FINAL DICTIONARY"
   ]
  },
  {
   "cell_type": "code",
   "execution_count": 237,
   "metadata": {},
   "outputs": [
    {
     "name": "stdout",
     "output_type": "stream",
     "text": [
      "TOTAL LIKES IN FIRST 10 POSTS OF TOP 5 HANDLES ARE:\n",
      "foodnetwork ---- {1: 21441, 2: 29458, 3: 35471, 4: 72929, 5: 81592, 6: 98175, 7: 106255, 8: 127698, 9: 151963, 10: 171332}\n",
      "buzzfeedfood ---- {1: 5166, 2: 8687, 3: 13677, 4: 25662, 5: 31452, 6: 35271, 7: 41861, 8: 44768, 9: 49887, 10: 57628}\n",
      "foodgod ---- {1: 31598, 2: 55619, 3: 62066, 4: 93268, 5: 107103, 6: 167273, 7: 197706, 8: 219880, 9: 299011, 10: 324041}\n",
      "dilsefoodie ---- {1: 6548, 2: 19172, 3: 27258, 4: 40617, 5: 52137, 6: 61016, 7: 68104, 8: 76536, 9: 82528, 10: 95418}\n",
      "foodtalkindia ---- {1: 354, 2: 792, 3: 1261, 4: 2130, 5: 4844, 6: 5712, 7: 6033, 8: 6507, 9: 6738, 10: 7775}\n"
     ]
    }
   ],
   "source": [
    "likes_top_5=likes_of_top_10_posts(top_5_handles) #PASSING THE top_5_handles FROM THE PREVIOUS DATA\n",
    "print('TOTAL LIKES IN FIRST 10 POSTS OF TOP 5 HANDLES ARE:')\n",
    "for i in likes_top_5:\n",
    "    print(i,\"----\",likes_top_5[i])"
   ]
  },
  {
   "cell_type": "markdown",
   "metadata": {},
   "source": [
    "##### 3.2) Calculate the average likes for a handle."
   ]
  },
  {
   "cell_type": "code",
   "execution_count": 258,
   "metadata": {},
   "outputs": [],
   "source": [
    "def average_likes(data):\n",
    "    average_likes={}\n",
    "    total_likes={}\n",
    "    \n",
    "    #CALCULATE SUM OF LIKES IN 10 POSTS FOR EACH HANDLE\n",
    "    c=1\n",
    "    for i in data.values():\n",
    "        sum=0\n",
    "        for j in i.values():\n",
    "            sum+=j\n",
    "        total_likes[c]=sum\n",
    "        c+=1\n",
    "\n",
    "    #CALCULATE AVERAGE LIKES FOR EACH HANDLE\n",
    "    c=1\n",
    "    for i in data:\n",
    "        average_likes[i]=total_likes[c]//10 #LIKES ARE INTEGERS\n",
    "        c+=1\n",
    "    \n",
    "    return average_likes #RETURN THE FINAL DICTIONARY WITH AVERAGE LIKES"
   ]
  },
  {
   "cell_type": "code",
   "execution_count": 259,
   "metadata": {},
   "outputs": [
    {
     "name": "stdout",
     "output_type": "stream",
     "text": [
      "foodnetwork ---- 89631\n",
      "buzzfeedfood ---- 31405\n",
      "foodgod ---- 155756\n",
      "dilsefoodie ---- 52933\n",
      "foodtalkindia ---- 4214\n"
     ]
    }
   ],
   "source": [
    "avg_likes=average_likes(likes_top_5) #PASS THE LIKES OF EACH POST ON EACH HANDLES AS CALCULATED EARLIER \n",
    "likes_avg=[] #LIST OF AVERAGE LIKES VALUE FOR FURTHER CALCULATIONS\n",
    "for i in avg_likes:\n",
    "    likes_avg.append(avg_likes[i])\n",
    "    print(i,'----',avg_likes[i])"
   ]
  },
  {
   "cell_type": "markdown",
   "metadata": {},
   "source": [
    "##### 3.3) Divide the average likes obtained from the number of followers of the handle to get the average followers:like ratio of each handle.\n",
    "##### 3.4) Create a bar graph to depict the above obtained information."
   ]
  },
  {
   "cell_type": "code",
   "execution_count": 268,
   "metadata": {},
   "outputs": [],
   "source": [
    "def avg_follower_like_ratio(likes,followers,top_5):\n",
    "    follower_like_ratio=[]\n",
    "    for i in range(5):\n",
    "        follower_like_ratio.append(followers[i]/likes[i]) \n",
    "    \n",
    "    for i in range(5):\n",
    "        print(top_5[i],\"----\",follower_like_ratio[i])\n",
    "    \n",
    "    #BAR GRAPH\n",
    "    plt.bar(top_5,follower_like_ratio,color=['red','green','pink','blue','orange'],edgecolor='black')\n",
    "    plt.xticks(rotation=45)\n",
    "    plt.xlabel('Top 5 handles')\n",
    "    plt.ylabel('Ratio=followers/avg_likes')\n",
    "    plt.title('FOLLOWERS:LIKES RATIO')"
   ]
  },
  {
   "cell_type": "code",
   "execution_count": 269,
   "metadata": {},
   "outputs": [
    {
     "name": "stdout",
     "output_type": "stream",
     "text": [
      "foodnetwork ---- 114.78884537715746\n",
      "buzzfeedfood ---- 119.16430504696704\n",
      "foodgod ---- 23.19273735843242\n",
      "dilsefoodie ---- 8.638731981939433\n",
      "foodtalkindia ---- 70.18319886093973\n"
     ]
    },
    {
     "data": {
      "image/png": "[encoded data removed]",
      "text/plain": [
       "<Figure size 432x288 with 1 Axes>"
      ]
     },
     "metadata": {
      "needs_background": "light"
     },
     "output_type": "display_data"
    }
   ],
   "source": [
    "avg_follower_like_ratio(likes_avg,no_of_followers_of_top_5,top_5_handles) #PASS AVG LIKES VALUES,NO. OF FOLLOWERS AND TOP_5_HANDLES FROM PREVIOUS CALCULATION"
   ]
  }
 ],
 "metadata": {
  "kernelspec": {
   "display_name": "Python 3",
   "language": "python",
   "name": "python3"
  },
  "language_info": {
   "codemirror_mode": {
    "name": "ipython",
    "version": 3
   },
   "file_extension": ".py",
   "mimetype": "text/x-python",
   "name": "python",
   "nbconvert_exporter": "python",
   "pygments_lexer": "ipython3",
   "version": "3.7.4"
  }
 },
 "nbformat": 4,
 "nbformat_minor": 4
}
